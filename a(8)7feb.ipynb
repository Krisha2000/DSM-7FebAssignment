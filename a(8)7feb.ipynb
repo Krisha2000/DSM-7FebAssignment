{
 "cells": [
  {
   "cell_type": "markdown",
   "id": "6e4c64e0-f03f-4d47-a86d-f858f22fb68c",
   "metadata": {},
   "source": [
    "# Quetion :-1"
   ]
  },
  {
   "cell_type": "code",
   "execution_count": 10,
   "id": "55460d1e-70e8-4c76-9bf8-5bab40849930",
   "metadata": {},
   "outputs": [],
   "source": [
    "def passworld(str1):\n",
    "    if len(str1)<10:\n",
    "        print(\"Invalid Passworld\")\n",
    "    else:\n",
    "        upper=0\n",
    "        lower=0\n",
    "        numeric=0\n",
    "        specher=0\n",
    "        for i in str1:\n",
    "            if i.isupper()==True:\n",
    "                upper=upper+1\n",
    "            elif i.islower()==True:\n",
    "                    lower=lower+1\n",
    "            elif i.isnumeric()==True:\n",
    "                        numeric=numeric+1\n",
    "            elif i=='$' or i=='#' or i=='@' or i=='!' or i=='&':\n",
    "                            specher=specher+1\n",
    "                            \n",
    "        if upper>=2 and lower>=2 and numeric>=1 and  specher>=3:\n",
    "                 print(\"Valid Passworld\")\n",
    "        else:\n",
    "                 print(\"Invalid passworld\")\n",
    "    "
   ]
  },
  {
   "cell_type": "code",
   "execution_count": 12,
   "id": "0bfb641d-8ffa-451e-ad2d-7482f5213763",
   "metadata": {},
   "outputs": [
    {
     "name": "stdin",
     "output_type": "stream",
     "text": [
      "enter your pass world Krisha20@#$\n"
     ]
    },
    {
     "name": "stdout",
     "output_type": "stream",
     "text": [
      "Invalid passworld\n"
     ]
    },
    {
     "name": "stdin",
     "output_type": "stream",
     "text": [
      "enter your pass world KRisha20@#$\n"
     ]
    },
    {
     "name": "stdout",
     "output_type": "stream",
     "text": [
      "Valid Passworld\n"
     ]
    }
   ],
   "source": [
    "b=input(\"enter your pass world\")\n",
    "passworld(b)\n",
    "c=input(\"enter your pass world\")\n",
    "passworld(c)"
   ]
  },
  {
   "cell_type": "markdown",
   "id": "1e9fd2e9-ea76-4594-92b2-7db44c8d6fb3",
   "metadata": {},
   "source": [
    "# Quetion :-2"
   ]
  },
  {
   "cell_type": "markdown",
   "id": "892ef170-17f7-46ef-a4cc-5e3494f3c0f1",
   "metadata": {},
   "source": [
    "### 1st (using Lambda)"
   ]
  },
  {
   "cell_type": "code",
   "execution_count": 24,
   "id": "bb1baec9-c566-40c1-a25b-7eb4c7053d4e",
   "metadata": {},
   "outputs": [],
   "source": [
    "#first lattor should be \"a\"\n",
    "b=lambda  x : \"strings start with 'a'\" if(x[0]=='a') else \"string does not start with 'a'\"\n",
    "\n"
   ]
  },
  {
   "cell_type": "code",
   "execution_count": 25,
   "id": "32490fa3-3624-4fd1-84ca-d54d5cac1456",
   "metadata": {},
   "outputs": [
    {
     "name": "stdin",
     "output_type": "stream",
     "text": [
      "enter any string abcd\n"
     ]
    },
    {
     "data": {
      "text/plain": [
       "\"strings start with 'a'\""
      ]
     },
     "execution_count": 25,
     "metadata": {},
     "output_type": "execute_result"
    }
   ],
   "source": [
    "a=input(\"enter any string\")\n",
    "b(a)"
   ]
  },
  {
   "cell_type": "code",
   "execution_count": 26,
   "id": "eb3bfcf4-9e61-4405-bfbb-f63457b042a3",
   "metadata": {},
   "outputs": [
    {
     "name": "stdin",
     "output_type": "stream",
     "text": [
      "enter any string dfgr5646564\n"
     ]
    },
    {
     "data": {
      "text/plain": [
       "\"string does not start with 'a'\""
      ]
     },
     "execution_count": 26,
     "metadata": {},
     "output_type": "execute_result"
    }
   ],
   "source": [
    "c=input(\"enter any string\")\n",
    "b(c)"
   ]
  },
  {
   "cell_type": "markdown",
   "id": "d2502fa3-6ca4-432a-a8dd-48dadf6f0749",
   "metadata": {},
   "source": [
    "### 2nd(using map and lambda)"
   ]
  },
  {
   "cell_type": "code",
   "execution_count": 37,
   "id": "e9d12e15-8302-441d-9cd7-9937c40e98c2",
   "metadata": {},
   "outputs": [],
   "source": [
    "def is_numeric(string):\n",
    "    if all(map(lambda x: x.isdigit(), string))==True:\n",
    "      print(\"it is numeric string\")\n",
    "    else:\n",
    "        print(\"it is not numnneric string\")"
   ]
  },
  {
   "cell_type": "code",
   "execution_count": 35,
   "id": "4bd6b133-30b9-4d63-bcc1-98e7863c0b6c",
   "metadata": {},
   "outputs": [
    {
     "name": "stdin",
     "output_type": "stream",
     "text": [
      "enter any string 123456789\n"
     ]
    },
    {
     "name": "stdout",
     "output_type": "stream",
     "text": [
      "it is numeric string\n"
     ]
    }
   ],
   "source": [
    "a=input(\"enter any string\")\n",
    "is_numeric(a)"
   ]
  },
  {
   "cell_type": "code",
   "execution_count": 36,
   "id": "b49dbdfa-1bf0-4baf-9eca-49358805ba18",
   "metadata": {},
   "outputs": [
    {
     "name": "stdin",
     "output_type": "stream",
     "text": [
      "enter any string ajshki\n"
     ]
    },
    {
     "name": "stdout",
     "output_type": "stream",
     "text": [
      "it is not numnneric string\n"
     ]
    }
   ],
   "source": [
    "b=input(\"enter any string\")\n",
    "is_numeric(b)"
   ]
  },
  {
   "cell_type": "markdown",
   "id": "ae8ddaf6-b965-4815-80d5-9892f227c04b",
   "metadata": {},
   "source": [
    "### 3rd(using lambda)"
   ]
  },
  {
   "cell_type": "code",
   "execution_count": 56,
   "id": "ea434907-634e-4cda-b8a5-73a6cd437a25",
   "metadata": {},
   "outputs": [],
   "source": [
    "def shortedlist(list1):\n",
    "    list1.sort(key = lambda x: x[1])\n",
    "    return(list1)\n"
   ]
  },
  {
   "cell_type": "code",
   "execution_count": 57,
   "id": "825d2769-a58e-4884-a5ea-41266e1191c7",
   "metadata": {},
   "outputs": [
    {
     "data": {
      "text/plain": [
       "[('orange', 80), ('mango', 99), ('grapes', 1000)]"
      ]
     },
     "execution_count": 57,
     "metadata": {},
     "output_type": "execute_result"
    }
   ],
   "source": [
    "l1=[(\"mango\",99),(\"orange\",80), (\"grapes\", 1000)]\n",
    "shortedlist(l1)"
   ]
  },
  {
   "cell_type": "markdown",
   "id": "322ae9a5-e3a1-4a5e-9835-78121267758d",
   "metadata": {},
   "source": [
    "### 4th(using map and lambda)"
   ]
  },
  {
   "cell_type": "code",
   "execution_count": 66,
   "id": "87046fdb-ee9b-4d30-a577-df7d17b5742d",
   "metadata": {},
   "outputs": [
    {
     "name": "stdout",
     "output_type": "stream",
     "text": [
      "square of list [0, 1, 2, 3, 4, 5, 6, 7, 8, 9, 10] is list [0, 1, 4, 9, 16, 25, 36, 49, 64, 81, 100]\n"
     ]
    }
   ],
   "source": [
    "l2=list(range(0,11))\n",
    "sqare=lambda x:x**2\n",
    "l=list(map(sqare,l2))\n",
    "print(f\"square of list {l2} is list {l}\")\n"
   ]
  },
  {
   "cell_type": "markdown",
   "id": "7325e5c0-9af7-43ef-973e-6dd102622643",
   "metadata": {},
   "source": [
    "### 5th(using map and lambda)"
   ]
  },
  {
   "cell_type": "code",
   "execution_count": 67,
   "id": "de5e2ba5-f90f-4700-a267-d996f66e1de1",
   "metadata": {},
   "outputs": [
    {
     "name": "stdout",
     "output_type": "stream",
     "text": [
      "square of list [0, 1, 2, 3, 4, 5, 6, 7, 8, 9, 10] is list [0.0, 1.0, 1.2599210498948732, 1.4422495703074083, 1.5874010519681994, 1.7099759466766968, 1.8171205928321397, 1.912931182772389, 2.0, 2.080083823051904, 2.154434690031884]\n"
     ]
    }
   ],
   "source": [
    "l2=list(range(0,11))\n",
    "sqare=lambda x:x**(1/3)\n",
    "l=list(map(sqare,l2))\n",
    "print(f\"square of list {l2} is list {l}\")\n"
   ]
  },
  {
   "cell_type": "markdown",
   "id": "e78c4d6a-168e-4402-aa29-7f71e134acf9",
   "metadata": {},
   "source": [
    "### 6th(using lambda )"
   ]
  },
  {
   "cell_type": "code",
   "execution_count": 74,
   "id": "adbae32c-d71b-4dad-ae5c-7552d3c16646",
   "metadata": {},
   "outputs": [],
   "source": [
    "iseven=lambda x: \"given nomber is even nomber\" if(x%2==0) else \"it is odd nomber\"\n"
   ]
  },
  {
   "cell_type": "code",
   "execution_count": 77,
   "id": "eb9d335d-d844-4243-baf7-68b8cafd3749",
   "metadata": {},
   "outputs": [
    {
     "name": "stdin",
     "output_type": "stream",
     "text": [
      "enter any nomber 45\n"
     ]
    },
    {
     "data": {
      "text/plain": [
       "'it is odd nomber'"
      ]
     },
     "execution_count": 77,
     "metadata": {},
     "output_type": "execute_result"
    }
   ],
   "source": [
    "a=int(input(\"enter any nomber\"))\n",
    "iseven(a)"
   ]
  },
  {
   "cell_type": "code",
   "execution_count": 78,
   "id": "32538410-a1c8-421e-b61f-f95e07cf6643",
   "metadata": {},
   "outputs": [
    {
     "name": "stdin",
     "output_type": "stream",
     "text": [
      "enter any nomber 88\n"
     ]
    },
    {
     "data": {
      "text/plain": [
       "'given nomber is even nomber'"
      ]
     },
     "execution_count": 78,
     "metadata": {},
     "output_type": "execute_result"
    }
   ],
   "source": [
    "a=int(input(\"enter any nomber\"))\n",
    "iseven(a)"
   ]
  },
  {
   "cell_type": "markdown",
   "id": "91b25a62-466c-4070-bc39-d142774533f3",
   "metadata": {},
   "source": [
    "### 7th(using filter and lambda)"
   ]
  },
  {
   "cell_type": "code",
   "execution_count": 84,
   "id": "57e60806-2607-434f-a3a3-a62556208f6d",
   "metadata": {},
   "outputs": [
    {
     "name": "stdout",
     "output_type": "stream",
     "text": [
      "[2, 4, 6, 8, 10]\n"
     ]
    }
   ],
   "source": [
    "l3=[1,2,3,4,5,6,7,8,9,10]\n",
    "evennolist=list(filter(lambda x:x if(x%2==0) else None,l3))\n",
    "print(evennolist)"
   ]
  },
  {
   "cell_type": "markdown",
   "id": "829be81a-a3b1-4bde-b6a3-52a36d98cbee",
   "metadata": {},
   "source": [
    "### 7th(using filter and lambda)"
   ]
  },
  {
   "cell_type": "code",
   "execution_count": null,
   "id": "f29b47c0-31d2-45e0-b5d5-d814433652b4",
   "metadata": {},
   "outputs": [],
   "source": [
    "l4=[1,2,3,4,5,6,-1,-2,-3,-4,-5,0]\n",
    "evepositivenolist=list(filter(lambda x:x if(x>=0) else None,l4))\n",
    "print(\"list\n",
    "print(positivenolist)\n",
    "negativenolist=list(filter(lambda x:x if(x<0) else None,l4))\n",
    "print(negativenolist)"
   ]
  }
 ],
 "metadata": {
  "kernelspec": {
   "display_name": "Python 3 (ipykernel)",
   "language": "python",
   "name": "python3"
  },
  "language_info": {
   "codemirror_mode": {
    "name": "ipython",
    "version": 3
   },
   "file_extension": ".py",
   "mimetype": "text/x-python",
   "name": "python",
   "nbconvert_exporter": "python",
   "pygments_lexer": "ipython3",
   "version": "3.10.8"
  }
 },
 "nbformat": 4,
 "nbformat_minor": 5
}
